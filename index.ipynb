{
 "cells": [
  {
   "cell_type": "markdown",
   "metadata": {},
   "source": [
    "# Yelp API - Lab\n",
    "\n",
    "The previously deployed lab on working around building a GIS with Yelp API and Folium can be found [here](https://github.com/learn-co-curriculum/dsc-2-15-10-yelp-api-gis-lab/tree/a56358c2d0c2daf569a5f50937c4c27463aadb1a) (not relevant for new students).\n",
    "\n",
    "\n",
    "## Introduction \n",
    "\n",
    "Now that we've seen how the Yelp API works, and some basic Folium visualizations its time to put those skills to work in order to create a working map! Taking things a step further, you'll also independently explore how to perform pagination in order to retrieve a full results set from the Yelp API!\n",
    "\n",
    "## Objectives\n",
    "\n",
    "You will be able to: \n",
    "* Create HTTP requests to get data from Yelp API\n",
    "* Parse HTTP responses and perform data analysis on the data returned\n",
    "* Perform pagination to retrieve troves of data!\n",
    "* Create a simple geographical system on to view information about selected businesses, at a given location. "
   ]
  },
  {
   "cell_type": "markdown",
   "metadata": {},
   "source": [
    "## Problem Introduction\n",
    "\n",
    "You've now worked with some API calls, but we have yet to see how to retrieve a more complete dataset in a programmatic manner. Returning to the Yelp API, the [documentation](https://www.yelp.com/developers/documentation/v3/business_search) also provides us details regarding the API limits. These often include details about the number of requests a user is allowed to make within a specified time limit and the maximum number of results to be returned. In this case, we are told that any request has a maximum of 50 results per request and defaults to 20. Furthermore, any search will be limited to a total of 1000 results. To retrieve all 1000 of these results, we would have to page through the results piece by piece, retriving 50 at a time. Processes such as these are often refered to as pagination.\n",
    "\n",
    "In this lab, you will define a search and then paginate over the results to retrieve all of the results. You'll then parse these responses as a DataFrame (for further exploration) and create a map using Folium to visualize the results geographically."
   ]
  },
  {
   "cell_type": "markdown",
   "metadata": {},
   "source": [
    "## Part I - Make the Initial Request\n",
    "\n",
    "Start by making an initial request to the Yelp API. Your search must include at least 2 parameters: **term** and **location**. For example, you might search for pizza restaurants in NYC. The term and location is up to you, but make the request below."
   ]
  },
  {
   "cell_type": "code",
   "execution_count": 5,
   "metadata": {},
   "outputs": [
    {
     "name": "stdout",
     "output_type": "stream",
     "text": [
      "<Response [200]>\n",
      "<class 'str'>\n",
      "{\"businesses\": [{\"id\": \"axqp3pGJXnTLgq2QrPyDyQ\", \"alias\": \"benemon-new-york\", \"name\": \"Benemon\", \"image_url\": \"https://s3-media2.fl.yelpcdn.com/bphoto/B-_lF8sP0pLsAiuvxZFjLQ/o.jpg\", \"is_closed\": false, \"url\": \"https://www.yelp.com/biz/benemon-new-york?adjust_creative=6h3dsES72YBIdxWt3Ssa3w&utm_campaign=yelp_api_v3&utm_medium=api_v3_business_search&utm_source=6h3dsES72YBIdxWt3Ssa3w\", \"review_count\": 467, \"categories\": [{\"alias\": \"japanese\", \"title\": \"Japanese\"}, {\"alias\": \"comfortfood\", \"title\": \"Comfort Food\"}, {\"alias\": \"tapasmallplates\", \"title\": \"Tapas/Small Plates\"}], \"rating\": 4.5, \"coordinates\": {\"latitude\": 40.72551, \"longitude\": -73.98838}, \"transactions\": [], \"price\": \"$$\", \"location\": {\"address1\": \"108 E 4th St\", \"address2\": null, \"address3\": \"\", \"city\": \"New York\", \"zip_code\": \"10003\", \"country\": \"US\", \"state\": \"NY\", \"display_address\": [\"108 E 4th St\", \"New York, NY 10003\"]}, \"phone\": \"+12126143006\", \"display_phone\": \"(212) 614-3006\", \"distance\": 2289.2038585586733}, {\"id\": \n"
     ]
    }
   ],
   "source": [
    "#Your code here\n",
    "import requests\n",
    "\n",
    "client_id = '6h3dsES72YBIdxWt3Ssa3w'\n",
    "api_key = 'HHt5WeN3qpCmldKpaUKGFsGwH8PfYk5v-Lx9osVK3AXATUVunRgKokzXsqSY6TpV7TZRKMadaTL7NN_JHjaEwIyYo0afK6aNzZthHtLTkwt4Twg7rRce0gWCeGSRXHYx'\n",
    "\n",
    "term = 'Japanese'\n",
    "location = 'NYC'\n",
    "#SEARCH_LIMIT = 20\n",
    "\n",
    "url = 'https://api.yelp.com/v3/businesses/search'\n",
    "\n",
    "headers = {\n",
    "        'Authorization': 'Bearer {}'.format(api_key),\n",
    "    }\n",
    "\n",
    "url_params = {\n",
    "                'term': term.replace(' ', '+'),\n",
    "                'location': location.replace(' ', '+'),\n",
    "                #'limit': SEARCH_LIMIT\n",
    "            }\n",
    "\n",
    "response = requests.get(url, headers=headers, params=url_params)\n",
    "print(response)\n",
    "print(type(response.text))\n",
    "print(response.text[:1000])"
   ]
  },
  {
   "cell_type": "code",
   "execution_count": 6,
   "metadata": {},
   "outputs": [
    {
     "data": {
      "text/plain": [
       "20"
      ]
     },
     "execution_count": 6,
     "metadata": {},
     "output_type": "execute_result"
    }
   ],
   "source": [
    "len(response.json()['businesses'])"
   ]
  },
  {
   "cell_type": "markdown",
   "metadata": {},
   "source": [
    "## Pagination\n",
    "\n",
    "Now that you have an initial response, you can examine the contents of the json container. For example, you might start with ```response.josn().keys()```. Here, you'll see a key for `'total'`, which tells you the full number of matching results given your query parameters. Write a loop (or ideally a function) which then makes successive API calls using the offset parameter to retrieve all of the results (or 5000 for a particularly large result set) for the original query. As you do this, be mindful of how you store the data. Your final goal will be to reformat the data concerning the businesses themselves into a pandas DataFrame from the json objects.\n",
    "\n",
    "**Note: be mindful of the API rate limits. You can only make 5000 requests per day, and are also can make requests too fast. Start prototyping small before running a loop that could be faulty. You can also use time.sleep(n) to add delays. For more details see https://www.yelp.com/developers/documentation/v3/rate_limiting.**"
   ]
  },
  {
   "cell_type": "code",
   "execution_count": 8,
   "metadata": {},
   "outputs": [
    {
     "name": "stdout",
     "output_type": "stream",
     "text": [
      "2600 total matches found.\n",
      "1000\n"
     ]
    },
    {
     "data": {
      "text/html": [
       "<div>\n",
       "<style scoped>\n",
       "    .dataframe tbody tr th:only-of-type {\n",
       "        vertical-align: middle;\n",
       "    }\n",
       "\n",
       "    .dataframe tbody tr th {\n",
       "        vertical-align: top;\n",
       "    }\n",
       "\n",
       "    .dataframe thead th {\n",
       "        text-align: right;\n",
       "    }\n",
       "</style>\n",
       "<table border=\"1\" class=\"dataframe\">\n",
       "  <thead>\n",
       "    <tr style=\"text-align: right;\">\n",
       "      <th></th>\n",
       "      <th>alias</th>\n",
       "      <th>categories</th>\n",
       "      <th>coordinates</th>\n",
       "      <th>display_phone</th>\n",
       "      <th>distance</th>\n",
       "      <th>id</th>\n",
       "      <th>image_url</th>\n",
       "      <th>is_closed</th>\n",
       "      <th>location</th>\n",
       "      <th>name</th>\n",
       "      <th>phone</th>\n",
       "      <th>price</th>\n",
       "      <th>rating</th>\n",
       "      <th>review_count</th>\n",
       "      <th>transactions</th>\n",
       "      <th>url</th>\n",
       "    </tr>\n",
       "  </thead>\n",
       "  <tbody>\n",
       "    <tr>\n",
       "      <th>0</th>\n",
       "      <td>benemon-new-york</td>\n",
       "      <td>[{'alias': 'japanese', 'title': 'Japanese'}, {...</td>\n",
       "      <td>{'latitude': 40.72551, 'longitude': -73.98838}</td>\n",
       "      <td>(212) 614-3006</td>\n",
       "      <td>2289.203859</td>\n",
       "      <td>axqp3pGJXnTLgq2QrPyDyQ</td>\n",
       "      <td>https://s3-media2.fl.yelpcdn.com/bphoto/B-_lF8...</td>\n",
       "      <td>False</td>\n",
       "      <td>{'address1': '108 E 4th St', 'address2': None,...</td>\n",
       "      <td>Benemon</td>\n",
       "      <td>+12126143006</td>\n",
       "      <td>$$</td>\n",
       "      <td>4.5</td>\n",
       "      <td>467</td>\n",
       "      <td>[]</td>\n",
       "      <td>https://www.yelp.com/biz/benemon-new-york?adju...</td>\n",
       "    </tr>\n",
       "    <tr>\n",
       "      <th>1</th>\n",
       "      <td>izakaya-mew-new-york-3</td>\n",
       "      <td>[{'alias': 'tapas', 'title': 'Tapas Bars'}, {'...</td>\n",
       "      <td>{'latitude': 40.7501853096499, 'longitude': -7...</td>\n",
       "      <td>(646) 368-9384</td>\n",
       "      <td>5020.064167</td>\n",
       "      <td>klAhw3xLQi9GF1tf_HnS7w</td>\n",
       "      <td>https://s3-media4.fl.yelpcdn.com/bphoto/Iix5fX...</td>\n",
       "      <td>False</td>\n",
       "      <td>{'address1': '53 W 35th St', 'address2': '', '...</td>\n",
       "      <td>Izakaya MEW</td>\n",
       "      <td>+16463689384</td>\n",
       "      <td>$$</td>\n",
       "      <td>4.0</td>\n",
       "      <td>2002</td>\n",
       "      <td>[pickup, delivery]</td>\n",
       "      <td>https://www.yelp.com/biz/izakaya-mew-new-york-...</td>\n",
       "    </tr>\n",
       "    <tr>\n",
       "      <th>2</th>\n",
       "      <td>sakagura-new-york</td>\n",
       "      <td>[{'alias': 'japanese', 'title': 'Japanese'}]</td>\n",
       "      <td>{'latitude': 40.7516467024541, 'longitude': -7...</td>\n",
       "      <td>(212) 953-7253</td>\n",
       "      <td>5443.138436</td>\n",
       "      <td>7iY35991NhQ1AShJZCNZgA</td>\n",
       "      <td>https://s3-media4.fl.yelpcdn.com/bphoto/f-Z182...</td>\n",
       "      <td>False</td>\n",
       "      <td>{'address1': '211 E 43rd St', 'address2': '', ...</td>\n",
       "      <td>Sakagura</td>\n",
       "      <td>+12129537253</td>\n",
       "      <td>$$$</td>\n",
       "      <td>4.0</td>\n",
       "      <td>1698</td>\n",
       "      <td>[]</td>\n",
       "      <td>https://www.yelp.com/biz/sakagura-new-york?adj...</td>\n",
       "    </tr>\n",
       "    <tr>\n",
       "      <th>3</th>\n",
       "      <td>raku-new-york-7</td>\n",
       "      <td>[{'alias': 'japanese', 'title': 'Japanese'}, {...</td>\n",
       "      <td>{'latitude': 40.7264988089246, 'longitude': -7...</td>\n",
       "      <td>(212) 228-1324</td>\n",
       "      <td>2428.039249</td>\n",
       "      <td>FlZ1zdVEKWv7dwqm8Uw8-w</td>\n",
       "      <td>https://s3-media4.fl.yelpcdn.com/bphoto/GEbZnH...</td>\n",
       "      <td>False</td>\n",
       "      <td>{'address1': '342 E 6th St', 'address2': '', '...</td>\n",
       "      <td>Raku</td>\n",
       "      <td>+12122281324</td>\n",
       "      <td>$$</td>\n",
       "      <td>4.5</td>\n",
       "      <td>839</td>\n",
       "      <td>[pickup, delivery]</td>\n",
       "      <td>https://www.yelp.com/biz/raku-new-york-7?adjus...</td>\n",
       "    </tr>\n",
       "    <tr>\n",
       "      <th>4</th>\n",
       "      <td>izakaya-new-york-2</td>\n",
       "      <td>[{'alias': 'izakaya', 'title': 'Izakaya'}, {'a...</td>\n",
       "      <td>{'latitude': 40.72667, 'longitude': -73.98738}</td>\n",
       "      <td>(917) 697-7162</td>\n",
       "      <td>2435.198897</td>\n",
       "      <td>i8F0fnempD5fTb2CxbwKDw</td>\n",
       "      <td>https://s3-media2.fl.yelpcdn.com/bphoto/p-pwtu...</td>\n",
       "      <td>False</td>\n",
       "      <td>{'address1': '326 E 6th St', 'address2': '', '...</td>\n",
       "      <td>Izakaya</td>\n",
       "      <td>+19176977162</td>\n",
       "      <td>$$</td>\n",
       "      <td>4.0</td>\n",
       "      <td>235</td>\n",
       "      <td>[]</td>\n",
       "      <td>https://www.yelp.com/biz/izakaya-new-york-2?ad...</td>\n",
       "    </tr>\n",
       "  </tbody>\n",
       "</table>\n",
       "</div>"
      ],
      "text/plain": [
       "                    alias                                         categories  \\\n",
       "0        benemon-new-york  [{'alias': 'japanese', 'title': 'Japanese'}, {...   \n",
       "1  izakaya-mew-new-york-3  [{'alias': 'tapas', 'title': 'Tapas Bars'}, {'...   \n",
       "2       sakagura-new-york       [{'alias': 'japanese', 'title': 'Japanese'}]   \n",
       "3         raku-new-york-7  [{'alias': 'japanese', 'title': 'Japanese'}, {...   \n",
       "4      izakaya-new-york-2  [{'alias': 'izakaya', 'title': 'Izakaya'}, {'a...   \n",
       "\n",
       "                                         coordinates   display_phone  \\\n",
       "0     {'latitude': 40.72551, 'longitude': -73.98838}  (212) 614-3006   \n",
       "1  {'latitude': 40.7501853096499, 'longitude': -7...  (646) 368-9384   \n",
       "2  {'latitude': 40.7516467024541, 'longitude': -7...  (212) 953-7253   \n",
       "3  {'latitude': 40.7264988089246, 'longitude': -7...  (212) 228-1324   \n",
       "4     {'latitude': 40.72667, 'longitude': -73.98738}  (917) 697-7162   \n",
       "\n",
       "      distance                      id  \\\n",
       "0  2289.203859  axqp3pGJXnTLgq2QrPyDyQ   \n",
       "1  5020.064167  klAhw3xLQi9GF1tf_HnS7w   \n",
       "2  5443.138436  7iY35991NhQ1AShJZCNZgA   \n",
       "3  2428.039249  FlZ1zdVEKWv7dwqm8Uw8-w   \n",
       "4  2435.198897  i8F0fnempD5fTb2CxbwKDw   \n",
       "\n",
       "                                           image_url  is_closed  \\\n",
       "0  https://s3-media2.fl.yelpcdn.com/bphoto/B-_lF8...      False   \n",
       "1  https://s3-media4.fl.yelpcdn.com/bphoto/Iix5fX...      False   \n",
       "2  https://s3-media4.fl.yelpcdn.com/bphoto/f-Z182...      False   \n",
       "3  https://s3-media4.fl.yelpcdn.com/bphoto/GEbZnH...      False   \n",
       "4  https://s3-media2.fl.yelpcdn.com/bphoto/p-pwtu...      False   \n",
       "\n",
       "                                            location         name  \\\n",
       "0  {'address1': '108 E 4th St', 'address2': None,...      Benemon   \n",
       "1  {'address1': '53 W 35th St', 'address2': '', '...  Izakaya MEW   \n",
       "2  {'address1': '211 E 43rd St', 'address2': '', ...     Sakagura   \n",
       "3  {'address1': '342 E 6th St', 'address2': '', '...         Raku   \n",
       "4  {'address1': '326 E 6th St', 'address2': '', '...      Izakaya   \n",
       "\n",
       "          phone price  rating  review_count        transactions  \\\n",
       "0  +12126143006    $$     4.5           467                  []   \n",
       "1  +16463689384    $$     4.0          2002  [pickup, delivery]   \n",
       "2  +12129537253   $$$     4.0          1698                  []   \n",
       "3  +12122281324    $$     4.5           839  [pickup, delivery]   \n",
       "4  +19176977162    $$     4.0           235                  []   \n",
       "\n",
       "                                                 url  \n",
       "0  https://www.yelp.com/biz/benemon-new-york?adju...  \n",
       "1  https://www.yelp.com/biz/izakaya-mew-new-york-...  \n",
       "2  https://www.yelp.com/biz/sakagura-new-york?adj...  \n",
       "3  https://www.yelp.com/biz/raku-new-york-7?adjus...  \n",
       "4  https://www.yelp.com/biz/izakaya-new-york-2?ad...  "
      ]
     },
     "execution_count": 8,
     "metadata": {},
     "output_type": "execute_result"
    }
   ],
   "source": [
    "# Your code here; use a function or loop to retrieve all the results from your original request\n",
    "import pandas as pd\n",
    "import time\n",
    "\n",
    "\n",
    "url_params = {  \n",
    "                'term': term.replace(' ', '+'),\n",
    "                'location': location.replace(' ', '+'),\n",
    "                'limit' : 50,\n",
    "                'offset': 0\n",
    "             }\n",
    "\n",
    "\n",
    "def yelp_call(url_params):\n",
    "    \n",
    "    response = requests.get(url, headers=headers, params=url_params)\n",
    "    df = pd.DataFrame(response.json()['businesses'])\n",
    "    return df\n",
    "\n",
    "\n",
    "def yelp_data(df, url_params):\n",
    "    \n",
    "\n",
    "\n",
    "\n",
    "total = response.json()['total']\n",
    "print('{} total matches found.'.format(total))\n",
    "entries = 0\n",
    "yelp_dfs = []\n",
    "while entries < total and entries < 1000:\n",
    "    #change offset parameter so that we grab different yelp entries\n",
    "    #keep all the other parameters the same\n",
    "    url_params['offset'] = entries\n",
    "    #get dataframe of set of entries\n",
    "    yelp_df = yelp_call(url_params)\n",
    "    #append to list\n",
    "    yelp_dfs.append(yelp_df)\n",
    "    #Wait a second\n",
    "    time.sleep(1) \n",
    "    #advance the entries\n",
    "    entries += 50\n",
    "df = pd.concat(yelp_dfs, ignore_index=True)\n",
    "                \n",
    "print(len(df))\n",
    "df.head()\n",
    "\n"
   ]
  },
  {
   "cell_type": "code",
   "execution_count": null,
   "metadata": {},
   "outputs": [],
   "source": [
    "\n",
    "\n",
    "df =[]\n",
    "total = response.json()['total']\n",
    "def yelp_data(df, url_params):\n",
    "    \n",
    "    \n",
    "    "
   ]
  },
  {
   "cell_type": "markdown",
   "metadata": {},
   "source": [
    "## Exploratory Analysis\n",
    "\n",
    "Take the restaurants from the previous question and do an intial exploratory analysis. At minimum, this should include looking at the distribution of features such as price, rating and number of reviews as well as the relations between these dimensions."
   ]
  },
  {
   "cell_type": "code",
   "execution_count": 26,
   "metadata": {
    "scrolled": true
   },
   "outputs": [
    {
     "name": "stdout",
     "output_type": "stream",
     "text": [
      "1000\n",
      "Index(['alias', 'categories', 'coordinates', 'display_phone', 'distance', 'id',\n",
      "       'image_url', 'is_closed', 'location', 'name', 'phone', 'price',\n",
      "       'rating', 'review_count', 'transactions', 'url', 'prices'],\n",
      "      dtype='object')\n"
     ]
    },
    {
     "data": {
      "text/html": [
       "<div>\n",
       "<style scoped>\n",
       "    .dataframe tbody tr th:only-of-type {\n",
       "        vertical-align: middle;\n",
       "    }\n",
       "\n",
       "    .dataframe tbody tr th {\n",
       "        vertical-align: top;\n",
       "    }\n",
       "\n",
       "    .dataframe thead th {\n",
       "        text-align: right;\n",
       "    }\n",
       "</style>\n",
       "<table border=\"1\" class=\"dataframe\">\n",
       "  <thead>\n",
       "    <tr style=\"text-align: right;\">\n",
       "      <th></th>\n",
       "      <th>alias</th>\n",
       "      <th>categories</th>\n",
       "      <th>coordinates</th>\n",
       "      <th>display_phone</th>\n",
       "      <th>distance</th>\n",
       "      <th>id</th>\n",
       "      <th>image_url</th>\n",
       "      <th>is_closed</th>\n",
       "      <th>location</th>\n",
       "      <th>name</th>\n",
       "      <th>phone</th>\n",
       "      <th>price</th>\n",
       "      <th>rating</th>\n",
       "      <th>review_count</th>\n",
       "      <th>transactions</th>\n",
       "      <th>url</th>\n",
       "      <th>prices</th>\n",
       "    </tr>\n",
       "  </thead>\n",
       "  <tbody>\n",
       "    <tr>\n",
       "      <th>0</th>\n",
       "      <td>benemon-new-york</td>\n",
       "      <td>[{'alias': 'japanese', 'title': 'Japanese'}, {...</td>\n",
       "      <td>{'latitude': 40.72551, 'longitude': -73.98838}</td>\n",
       "      <td>(212) 614-3006</td>\n",
       "      <td>2289.203859</td>\n",
       "      <td>axqp3pGJXnTLgq2QrPyDyQ</td>\n",
       "      <td>https://s3-media2.fl.yelpcdn.com/bphoto/B-_lF8...</td>\n",
       "      <td>False</td>\n",
       "      <td>{'address1': '108 E 4th St', 'address2': None,...</td>\n",
       "      <td>Benemon</td>\n",
       "      <td>+12126143006</td>\n",
       "      <td>$$</td>\n",
       "      <td>4.5</td>\n",
       "      <td>467</td>\n",
       "      <td>[]</td>\n",
       "      <td>https://www.yelp.com/biz/benemon-new-york?adju...</td>\n",
       "      <td>2</td>\n",
       "    </tr>\n",
       "    <tr>\n",
       "      <th>1</th>\n",
       "      <td>izakaya-mew-new-york-3</td>\n",
       "      <td>[{'alias': 'tapas', 'title': 'Tapas Bars'}, {'...</td>\n",
       "      <td>{'latitude': 40.7501853096499, 'longitude': -7...</td>\n",
       "      <td>(646) 368-9384</td>\n",
       "      <td>5020.064167</td>\n",
       "      <td>klAhw3xLQi9GF1tf_HnS7w</td>\n",
       "      <td>https://s3-media4.fl.yelpcdn.com/bphoto/Iix5fX...</td>\n",
       "      <td>False</td>\n",
       "      <td>{'address1': '53 W 35th St', 'address2': '', '...</td>\n",
       "      <td>Izakaya MEW</td>\n",
       "      <td>+16463689384</td>\n",
       "      <td>$$</td>\n",
       "      <td>4.0</td>\n",
       "      <td>2002</td>\n",
       "      <td>[delivery, pickup]</td>\n",
       "      <td>https://www.yelp.com/biz/izakaya-mew-new-york-...</td>\n",
       "      <td>2</td>\n",
       "    </tr>\n",
       "  </tbody>\n",
       "</table>\n",
       "</div>"
      ],
      "text/plain": [
       "                    alias                                         categories  \\\n",
       "0        benemon-new-york  [{'alias': 'japanese', 'title': 'Japanese'}, {...   \n",
       "1  izakaya-mew-new-york-3  [{'alias': 'tapas', 'title': 'Tapas Bars'}, {'...   \n",
       "\n",
       "                                         coordinates   display_phone  \\\n",
       "0     {'latitude': 40.72551, 'longitude': -73.98838}  (212) 614-3006   \n",
       "1  {'latitude': 40.7501853096499, 'longitude': -7...  (646) 368-9384   \n",
       "\n",
       "      distance                      id  \\\n",
       "0  2289.203859  axqp3pGJXnTLgq2QrPyDyQ   \n",
       "1  5020.064167  klAhw3xLQi9GF1tf_HnS7w   \n",
       "\n",
       "                                           image_url  is_closed  \\\n",
       "0  https://s3-media2.fl.yelpcdn.com/bphoto/B-_lF8...      False   \n",
       "1  https://s3-media4.fl.yelpcdn.com/bphoto/Iix5fX...      False   \n",
       "\n",
       "                                            location         name  \\\n",
       "0  {'address1': '108 E 4th St', 'address2': None,...      Benemon   \n",
       "1  {'address1': '53 W 35th St', 'address2': '', '...  Izakaya MEW   \n",
       "\n",
       "          phone price  rating  review_count        transactions  \\\n",
       "0  +12126143006    $$     4.5           467                  []   \n",
       "1  +16463689384    $$     4.0          2002  [delivery, pickup]   \n",
       "\n",
       "                                                 url  prices  \n",
       "0  https://www.yelp.com/biz/benemon-new-york?adju...       2  \n",
       "1  https://www.yelp.com/biz/izakaya-mew-new-york-...       2  "
      ]
     },
     "execution_count": 26,
     "metadata": {},
     "output_type": "execute_result"
    }
   ],
   "source": [
    "import matplotlib.pyplot as plt\n",
    "%matplotlib inline\n",
    "\n",
    "print(len(df))\n",
    "print(df.columns)\n",
    "df.head(2)"
   ]
  },
  {
   "cell_type": "markdown",
   "metadata": {},
   "source": [
    "Check if the data has null values"
   ]
  },
  {
   "cell_type": "code",
   "execution_count": 10,
   "metadata": {
    "scrolled": true
   },
   "outputs": [
    {
     "data": {
      "text/plain": [
       "alias             0\n",
       "categories        0\n",
       "coordinates       0\n",
       "display_phone     0\n",
       "distance          0\n",
       "id                0\n",
       "image_url         0\n",
       "is_closed         0\n",
       "location          0\n",
       "name              0\n",
       "phone             0\n",
       "price            88\n",
       "rating            0\n",
       "review_count      0\n",
       "transactions      0\n",
       "url               0\n",
       "dtype: int64"
      ]
     },
     "execution_count": 10,
     "metadata": {},
     "output_type": "execute_result"
    }
   ],
   "source": [
    "df.isna().sum()"
   ]
  },
  {
   "cell_type": "markdown",
   "metadata": {},
   "source": [
    "lets check for the nan values in price and see how often the other values appear"
   ]
  },
  {
   "cell_type": "code",
   "execution_count": 13,
   "metadata": {},
   "outputs": [
    {
     "name": "stdout",
     "output_type": "stream",
     "text": [
      "['$$' '$$$' nan '$$$$' '$']\n",
      "$$      701\n",
      "$$$      86\n",
      "$        64\n",
      "$$$$     61\n",
      "Name: price, dtype: int64\n"
     ]
    }
   ],
   "source": [
    "print(df['price'].unique())\n",
    "print(df['price'].value_counts())"
   ]
  },
  {
   "cell_type": "markdown",
   "metadata": {},
   "source": [
    "replace nan with the most common value which is $$"
   ]
  },
  {
   "cell_type": "code",
   "execution_count": 14,
   "metadata": {},
   "outputs": [],
   "source": [
    "df['price'] = df['price'].fillna('$$')"
   ]
  },
  {
   "cell_type": "markdown",
   "metadata": {},
   "source": [
    "lets check the unique values in the columns again and the count of each value to see if it was replaced"
   ]
  },
  {
   "cell_type": "code",
   "execution_count": 15,
   "metadata": {
    "scrolled": true
   },
   "outputs": [
    {
     "name": "stdout",
     "output_type": "stream",
     "text": [
      "['$$' '$$$' '$$$$' '$']\n",
      "$$      789\n",
      "$$$      86\n",
      "$        64\n",
      "$$$$     61\n",
      "Name: price, dtype: int64\n"
     ]
    }
   ],
   "source": [
    "print(df['price'].unique())\n",
    "print(df['price'].value_counts())"
   ]
  },
  {
   "cell_type": "markdown",
   "metadata": {},
   "source": [
    "Check other columns to see if they have placeholder values"
   ]
  },
  {
   "cell_type": "code",
   "execution_count": 20,
   "metadata": {},
   "outputs": [
    {
     "name": "stdout",
     "output_type": "stream",
     "text": [
      "unique rating:  [4.5 4.  5.  3.5 3.  2.5 2. ]\n",
      "unique review_count:  [ 467 2002 1698  839  235  412 1276  701  205  256  809  190  291  941\n",
      "  957 1237   54 1625  808  631   61  791    6   82  174   78  273  443\n",
      "  248  139   27  166  595  197  188  828  113 1523  164  333  936 1207\n",
      "  201  346  379  354   18 1533   47 1397   24  671   62  555   79    8\n",
      "  708 1181  173  102  322  152   50  149  196  259  154   85  220   41\n",
      "  107  131  457  307  223  240  946  320   14  224  475   15  554  215\n",
      "  210   31  105  100  693  387  670 1154   94  258  760  169 2922    3\n",
      " 1667  823   53  198  400  156  934  327  246  269  422  134  593  540\n",
      "   52  214   17  527  385   68  464  122   55  208  129 1031   93  265\n",
      "   36  350   72  512  640 1230  202   20  263  209  277 1428   84  228\n",
      "   29  498   76   45  114   95  371  238 1044  245  437  776  692  125\n",
      "  121  356  151  476  126  655   11  117   90 3407  406 2037  206  216\n",
      "  112 1490  278  144  676  207  262  213  647  788  281   51  184 1097\n",
      "  454  157  614  103  204   89  844  301  171  766  606  756   80  141\n",
      "  550 1692  249  513  506  691  244  229  231  143 1109  153  191  730\n",
      "   71  130  325  914  111  135  187  310  551  132  413  110  108  276\n",
      "  375  217 1137  347  242  295 1023  300  935   35   26  119  471  234\n",
      "  193  179 1610  583  284   63  115  579   28  290   74  477  874   59\n",
      "  272  109  305  123  374  218   64 9683  120  432  712  364   39  466\n",
      " 1083  180  150  146  598  450  124   58  101  299  145  222  274  133\n",
      "  391 1094  567  230   30   42  905  192   57  339   38   73  160  306\n",
      "  261  836  318   25  147  341  158 5140 1390   75  405   91  200   60\n",
      "  116   77   37  991 1025  353  441    9  183    4  177   40   88  644\n",
      " 1010  584  344  348  328   66  172  351  582   92  410 1603    1   96\n",
      "  212   56  994  610  420    5  254  485   81  380  292  163   99  321\n",
      "   69   98   44  211  279  227    7  362  938  293  411   49  251   13\n",
      "   70  336   48    2  359  811  294  199  562  317   43   86  280  462\n",
      "  857  572  534  361   19  722   10  898  159  365  266  337  155  340\n",
      "   65   32  689  525  136   12   23  161  127  425  140  165  170  181\n",
      "  137  162  542  304  415  438  440  366 1512  981  288  349  255  553\n",
      " 1299  452  106  559  268  736   87  326   33 4066 1133  335  875   34\n",
      " 1336  444   67  182  203 1545  243   16   22 1111  239  717  338  225\n",
      "  309  815  881  128   46  486   97  104  271 1021  237  270  194]\n",
      "9683\n"
     ]
    }
   ],
   "source": [
    "print(\"unique rating: \", df['rating'].unique())\n",
    "print(\"unique review_count: \", df['review_count'].unique())\n",
    "print(max(df['review_count']))"
   ]
  },
  {
   "cell_type": "code",
   "execution_count": 21,
   "metadata": {},
   "outputs": [],
   "source": [
    "#create a column with the price in numbers 1 = lowest, 5 = highest\n",
    "df['prices'] = df['price'].map(lambda x: len(x))"
   ]
  },
  {
   "cell_type": "code",
   "execution_count": 22,
   "metadata": {},
   "outputs": [
    {
     "data": {
      "text/html": [
       "<div>\n",
       "<style scoped>\n",
       "    .dataframe tbody tr th:only-of-type {\n",
       "        vertical-align: middle;\n",
       "    }\n",
       "\n",
       "    .dataframe tbody tr th {\n",
       "        vertical-align: top;\n",
       "    }\n",
       "\n",
       "    .dataframe thead th {\n",
       "        text-align: right;\n",
       "    }\n",
       "</style>\n",
       "<table border=\"1\" class=\"dataframe\">\n",
       "  <thead>\n",
       "    <tr style=\"text-align: right;\">\n",
       "      <th></th>\n",
       "      <th>alias</th>\n",
       "      <th>categories</th>\n",
       "      <th>coordinates</th>\n",
       "      <th>display_phone</th>\n",
       "      <th>distance</th>\n",
       "      <th>id</th>\n",
       "      <th>image_url</th>\n",
       "      <th>is_closed</th>\n",
       "      <th>location</th>\n",
       "      <th>name</th>\n",
       "      <th>phone</th>\n",
       "      <th>price</th>\n",
       "      <th>rating</th>\n",
       "      <th>review_count</th>\n",
       "      <th>transactions</th>\n",
       "      <th>url</th>\n",
       "      <th>prices</th>\n",
       "    </tr>\n",
       "  </thead>\n",
       "  <tbody>\n",
       "    <tr>\n",
       "      <th>0</th>\n",
       "      <td>benemon-new-york</td>\n",
       "      <td>[{'alias': 'japanese', 'title': 'Japanese'}, {...</td>\n",
       "      <td>{'latitude': 40.72551, 'longitude': -73.98838}</td>\n",
       "      <td>(212) 614-3006</td>\n",
       "      <td>2289.203859</td>\n",
       "      <td>axqp3pGJXnTLgq2QrPyDyQ</td>\n",
       "      <td>https://s3-media2.fl.yelpcdn.com/bphoto/B-_lF8...</td>\n",
       "      <td>False</td>\n",
       "      <td>{'address1': '108 E 4th St', 'address2': None,...</td>\n",
       "      <td>Benemon</td>\n",
       "      <td>+12126143006</td>\n",
       "      <td>$$</td>\n",
       "      <td>4.5</td>\n",
       "      <td>467</td>\n",
       "      <td>[]</td>\n",
       "      <td>https://www.yelp.com/biz/benemon-new-york?adju...</td>\n",
       "      <td>2</td>\n",
       "    </tr>\n",
       "    <tr>\n",
       "      <th>1</th>\n",
       "      <td>izakaya-mew-new-york-3</td>\n",
       "      <td>[{'alias': 'tapas', 'title': 'Tapas Bars'}, {'...</td>\n",
       "      <td>{'latitude': 40.7501853096499, 'longitude': -7...</td>\n",
       "      <td>(646) 368-9384</td>\n",
       "      <td>5020.064167</td>\n",
       "      <td>klAhw3xLQi9GF1tf_HnS7w</td>\n",
       "      <td>https://s3-media4.fl.yelpcdn.com/bphoto/Iix5fX...</td>\n",
       "      <td>False</td>\n",
       "      <td>{'address1': '53 W 35th St', 'address2': '', '...</td>\n",
       "      <td>Izakaya MEW</td>\n",
       "      <td>+16463689384</td>\n",
       "      <td>$$</td>\n",
       "      <td>4.0</td>\n",
       "      <td>2002</td>\n",
       "      <td>[delivery, pickup]</td>\n",
       "      <td>https://www.yelp.com/biz/izakaya-mew-new-york-...</td>\n",
       "      <td>2</td>\n",
       "    </tr>\n",
       "    <tr>\n",
       "      <th>2</th>\n",
       "      <td>sakagura-new-york</td>\n",
       "      <td>[{'alias': 'japanese', 'title': 'Japanese'}]</td>\n",
       "      <td>{'latitude': 40.7516467024541, 'longitude': -7...</td>\n",
       "      <td>(212) 953-7253</td>\n",
       "      <td>5443.138436</td>\n",
       "      <td>7iY35991NhQ1AShJZCNZgA</td>\n",
       "      <td>https://s3-media4.fl.yelpcdn.com/bphoto/f-Z182...</td>\n",
       "      <td>False</td>\n",
       "      <td>{'address1': '211 E 43rd St', 'address2': '', ...</td>\n",
       "      <td>Sakagura</td>\n",
       "      <td>+12129537253</td>\n",
       "      <td>$$$</td>\n",
       "      <td>4.0</td>\n",
       "      <td>1698</td>\n",
       "      <td>[]</td>\n",
       "      <td>https://www.yelp.com/biz/sakagura-new-york?adj...</td>\n",
       "      <td>3</td>\n",
       "    </tr>\n",
       "    <tr>\n",
       "      <th>3</th>\n",
       "      <td>raku-new-york-7</td>\n",
       "      <td>[{'alias': 'japanese', 'title': 'Japanese'}, {...</td>\n",
       "      <td>{'latitude': 40.7264988089246, 'longitude': -7...</td>\n",
       "      <td>(212) 228-1324</td>\n",
       "      <td>2428.039249</td>\n",
       "      <td>FlZ1zdVEKWv7dwqm8Uw8-w</td>\n",
       "      <td>https://s3-media4.fl.yelpcdn.com/bphoto/GEbZnH...</td>\n",
       "      <td>False</td>\n",
       "      <td>{'address1': '342 E 6th St', 'address2': '', '...</td>\n",
       "      <td>Raku</td>\n",
       "      <td>+12122281324</td>\n",
       "      <td>$$</td>\n",
       "      <td>4.5</td>\n",
       "      <td>839</td>\n",
       "      <td>[delivery, pickup]</td>\n",
       "      <td>https://www.yelp.com/biz/raku-new-york-7?adjus...</td>\n",
       "      <td>2</td>\n",
       "    </tr>\n",
       "    <tr>\n",
       "      <th>4</th>\n",
       "      <td>izakaya-new-york-2</td>\n",
       "      <td>[{'alias': 'izakaya', 'title': 'Izakaya'}, {'a...</td>\n",
       "      <td>{'latitude': 40.72667, 'longitude': -73.98738}</td>\n",
       "      <td>(917) 697-7162</td>\n",
       "      <td>2435.198897</td>\n",
       "      <td>i8F0fnempD5fTb2CxbwKDw</td>\n",
       "      <td>https://s3-media2.fl.yelpcdn.com/bphoto/p-pwtu...</td>\n",
       "      <td>False</td>\n",
       "      <td>{'address1': '326 E 6th St', 'address2': '', '...</td>\n",
       "      <td>Izakaya</td>\n",
       "      <td>+19176977162</td>\n",
       "      <td>$$</td>\n",
       "      <td>4.0</td>\n",
       "      <td>235</td>\n",
       "      <td>[]</td>\n",
       "      <td>https://www.yelp.com/biz/izakaya-new-york-2?ad...</td>\n",
       "      <td>2</td>\n",
       "    </tr>\n",
       "  </tbody>\n",
       "</table>\n",
       "</div>"
      ],
      "text/plain": [
       "                    alias                                         categories  \\\n",
       "0        benemon-new-york  [{'alias': 'japanese', 'title': 'Japanese'}, {...   \n",
       "1  izakaya-mew-new-york-3  [{'alias': 'tapas', 'title': 'Tapas Bars'}, {'...   \n",
       "2       sakagura-new-york       [{'alias': 'japanese', 'title': 'Japanese'}]   \n",
       "3         raku-new-york-7  [{'alias': 'japanese', 'title': 'Japanese'}, {...   \n",
       "4      izakaya-new-york-2  [{'alias': 'izakaya', 'title': 'Izakaya'}, {'a...   \n",
       "\n",
       "                                         coordinates   display_phone  \\\n",
       "0     {'latitude': 40.72551, 'longitude': -73.98838}  (212) 614-3006   \n",
       "1  {'latitude': 40.7501853096499, 'longitude': -7...  (646) 368-9384   \n",
       "2  {'latitude': 40.7516467024541, 'longitude': -7...  (212) 953-7253   \n",
       "3  {'latitude': 40.7264988089246, 'longitude': -7...  (212) 228-1324   \n",
       "4     {'latitude': 40.72667, 'longitude': -73.98738}  (917) 697-7162   \n",
       "\n",
       "      distance                      id  \\\n",
       "0  2289.203859  axqp3pGJXnTLgq2QrPyDyQ   \n",
       "1  5020.064167  klAhw3xLQi9GF1tf_HnS7w   \n",
       "2  5443.138436  7iY35991NhQ1AShJZCNZgA   \n",
       "3  2428.039249  FlZ1zdVEKWv7dwqm8Uw8-w   \n",
       "4  2435.198897  i8F0fnempD5fTb2CxbwKDw   \n",
       "\n",
       "                                           image_url  is_closed  \\\n",
       "0  https://s3-media2.fl.yelpcdn.com/bphoto/B-_lF8...      False   \n",
       "1  https://s3-media4.fl.yelpcdn.com/bphoto/Iix5fX...      False   \n",
       "2  https://s3-media4.fl.yelpcdn.com/bphoto/f-Z182...      False   \n",
       "3  https://s3-media4.fl.yelpcdn.com/bphoto/GEbZnH...      False   \n",
       "4  https://s3-media2.fl.yelpcdn.com/bphoto/p-pwtu...      False   \n",
       "\n",
       "                                            location         name  \\\n",
       "0  {'address1': '108 E 4th St', 'address2': None,...      Benemon   \n",
       "1  {'address1': '53 W 35th St', 'address2': '', '...  Izakaya MEW   \n",
       "2  {'address1': '211 E 43rd St', 'address2': '', ...     Sakagura   \n",
       "3  {'address1': '342 E 6th St', 'address2': '', '...         Raku   \n",
       "4  {'address1': '326 E 6th St', 'address2': '', '...      Izakaya   \n",
       "\n",
       "          phone price  rating  review_count        transactions  \\\n",
       "0  +12126143006    $$     4.5           467                  []   \n",
       "1  +16463689384    $$     4.0          2002  [delivery, pickup]   \n",
       "2  +12129537253   $$$     4.0          1698                  []   \n",
       "3  +12122281324    $$     4.5           839  [delivery, pickup]   \n",
       "4  +19176977162    $$     4.0           235                  []   \n",
       "\n",
       "                                                 url  prices  \n",
       "0  https://www.yelp.com/biz/benemon-new-york?adju...       2  \n",
       "1  https://www.yelp.com/biz/izakaya-mew-new-york-...       2  \n",
       "2  https://www.yelp.com/biz/sakagura-new-york?adj...       3  \n",
       "3  https://www.yelp.com/biz/raku-new-york-7?adjus...       2  \n",
       "4  https://www.yelp.com/biz/izakaya-new-york-2?ad...       2  "
      ]
     },
     "execution_count": 22,
     "metadata": {},
     "output_type": "execute_result"
    }
   ],
   "source": [
    "df.head()"
   ]
  },
  {
   "cell_type": "code",
   "execution_count": 35,
   "metadata": {
    "scrolled": true
   },
   "outputs": [
    {
     "data": {
      "text/html": [
       "<div>\n",
       "<style scoped>\n",
       "    .dataframe tbody tr th:only-of-type {\n",
       "        vertical-align: middle;\n",
       "    }\n",
       "\n",
       "    .dataframe tbody tr th {\n",
       "        vertical-align: top;\n",
       "    }\n",
       "\n",
       "    .dataframe thead th {\n",
       "        text-align: right;\n",
       "    }\n",
       "</style>\n",
       "<table border=\"1\" class=\"dataframe\">\n",
       "  <thead>\n",
       "    <tr style=\"text-align: right;\">\n",
       "      <th></th>\n",
       "      <th>distance</th>\n",
       "      <th>rating</th>\n",
       "      <th>review_count</th>\n",
       "      <th>prices</th>\n",
       "    </tr>\n",
       "  </thead>\n",
       "  <tbody>\n",
       "    <tr>\n",
       "      <th>count</th>\n",
       "      <td>1000.000000</td>\n",
       "      <td>1000.00000</td>\n",
       "      <td>1000.000000</td>\n",
       "      <td>1000.000000</td>\n",
       "    </tr>\n",
       "    <tr>\n",
       "      <th>mean</th>\n",
       "      <td>7043.188065</td>\n",
       "      <td>3.90600</td>\n",
       "      <td>267.943000</td>\n",
       "      <td>2.144000</td>\n",
       "    </tr>\n",
       "    <tr>\n",
       "      <th>std</th>\n",
       "      <td>4987.124243</td>\n",
       "      <td>0.46409</td>\n",
       "      <td>484.064761</td>\n",
       "      <td>0.611259</td>\n",
       "    </tr>\n",
       "    <tr>\n",
       "      <th>min</th>\n",
       "      <td>246.004467</td>\n",
       "      <td>2.00000</td>\n",
       "      <td>1.000000</td>\n",
       "      <td>1.000000</td>\n",
       "    </tr>\n",
       "    <tr>\n",
       "      <th>25%</th>\n",
       "      <td>3269.695373</td>\n",
       "      <td>3.50000</td>\n",
       "      <td>68.000000</td>\n",
       "      <td>2.000000</td>\n",
       "    </tr>\n",
       "    <tr>\n",
       "      <th>50%</th>\n",
       "      <td>5748.988966</td>\n",
       "      <td>4.00000</td>\n",
       "      <td>140.000000</td>\n",
       "      <td>2.000000</td>\n",
       "    </tr>\n",
       "    <tr>\n",
       "      <th>75%</th>\n",
       "      <td>9262.770797</td>\n",
       "      <td>4.00000</td>\n",
       "      <td>285.000000</td>\n",
       "      <td>2.000000</td>\n",
       "    </tr>\n",
       "    <tr>\n",
       "      <th>max</th>\n",
       "      <td>28959.570818</td>\n",
       "      <td>5.00000</td>\n",
       "      <td>9683.000000</td>\n",
       "      <td>4.000000</td>\n",
       "    </tr>\n",
       "  </tbody>\n",
       "</table>\n",
       "</div>"
      ],
      "text/plain": [
       "           distance      rating  review_count       prices\n",
       "count   1000.000000  1000.00000   1000.000000  1000.000000\n",
       "mean    7043.188065     3.90600    267.943000     2.144000\n",
       "std     4987.124243     0.46409    484.064761     0.611259\n",
       "min      246.004467     2.00000      1.000000     1.000000\n",
       "25%     3269.695373     3.50000     68.000000     2.000000\n",
       "50%     5748.988966     4.00000    140.000000     2.000000\n",
       "75%     9262.770797     4.00000    285.000000     2.000000\n",
       "max    28959.570818     5.00000   9683.000000     4.000000"
      ]
     },
     "execution_count": 35,
     "metadata": {},
     "output_type": "execute_result"
    }
   ],
   "source": [
    "df.describe()"
   ]
  },
  {
   "cell_type": "code",
   "execution_count": 41,
   "metadata": {
    "scrolled": true
   },
   "outputs": [
    {
     "data": {
      "text/html": [
       "<div>\n",
       "<style scoped>\n",
       "    .dataframe tbody tr th:only-of-type {\n",
       "        vertical-align: middle;\n",
       "    }\n",
       "\n",
       "    .dataframe tbody tr th {\n",
       "        vertical-align: top;\n",
       "    }\n",
       "\n",
       "    .dataframe thead th {\n",
       "        text-align: right;\n",
       "    }\n",
       "</style>\n",
       "<table border=\"1\" class=\"dataframe\">\n",
       "  <thead>\n",
       "    <tr style=\"text-align: right;\">\n",
       "      <th></th>\n",
       "      <th>rating</th>\n",
       "      <th>review_count</th>\n",
       "    </tr>\n",
       "    <tr>\n",
       "      <th>prices</th>\n",
       "      <th></th>\n",
       "      <th></th>\n",
       "    </tr>\n",
       "  </thead>\n",
       "  <tbody>\n",
       "    <tr>\n",
       "      <th>1</th>\n",
       "      <td>3.859375</td>\n",
       "      <td>135.781250</td>\n",
       "    </tr>\n",
       "    <tr>\n",
       "      <th>2</th>\n",
       "      <td>3.882129</td>\n",
       "      <td>256.140684</td>\n",
       "    </tr>\n",
       "    <tr>\n",
       "      <th>3</th>\n",
       "      <td>3.982558</td>\n",
       "      <td>451.848837</td>\n",
       "    </tr>\n",
       "    <tr>\n",
       "      <th>4</th>\n",
       "      <td>4.155738</td>\n",
       "      <td>299.983607</td>\n",
       "    </tr>\n",
       "  </tbody>\n",
       "</table>\n",
       "</div>"
      ],
      "text/plain": [
       "          rating  review_count\n",
       "prices                        \n",
       "1       3.859375    135.781250\n",
       "2       3.882129    256.140684\n",
       "3       3.982558    451.848837\n",
       "4       4.155738    299.983607"
      ]
     },
     "execution_count": 41,
     "metadata": {},
     "output_type": "execute_result"
    }
   ],
   "source": [
    "#groupby price and get avg\n",
    "new_df = df[['name','rating','review_count','prices']]\n",
    "new_df.groupby('prices').mean()"
   ]
  },
  {
   "cell_type": "markdown",
   "metadata": {},
   "source": [
    "let's check if the data is skewed by checking the number of reviews"
   ]
  },
  {
   "cell_type": "code",
   "execution_count": 39,
   "metadata": {},
   "outputs": [
    {
     "data": {
      "text/html": [
       "<div>\n",
       "<style scoped>\n",
       "    .dataframe tbody tr th:only-of-type {\n",
       "        vertical-align: middle;\n",
       "    }\n",
       "\n",
       "    .dataframe tbody tr th {\n",
       "        vertical-align: top;\n",
       "    }\n",
       "\n",
       "    .dataframe thead th {\n",
       "        text-align: right;\n",
       "    }\n",
       "</style>\n",
       "<table border=\"1\" class=\"dataframe\">\n",
       "  <thead>\n",
       "    <tr style=\"text-align: right;\">\n",
       "      <th></th>\n",
       "      <th>rating</th>\n",
       "      <th>review_count</th>\n",
       "    </tr>\n",
       "    <tr>\n",
       "      <th>prices</th>\n",
       "      <th></th>\n",
       "      <th></th>\n",
       "    </tr>\n",
       "  </thead>\n",
       "  <tbody>\n",
       "    <tr>\n",
       "      <th>1</th>\n",
       "      <td>247.0</td>\n",
       "      <td>8690</td>\n",
       "    </tr>\n",
       "    <tr>\n",
       "      <th>2</th>\n",
       "      <td>3063.0</td>\n",
       "      <td>202095</td>\n",
       "    </tr>\n",
       "    <tr>\n",
       "      <th>3</th>\n",
       "      <td>342.5</td>\n",
       "      <td>38859</td>\n",
       "    </tr>\n",
       "    <tr>\n",
       "      <th>4</th>\n",
       "      <td>253.5</td>\n",
       "      <td>18299</td>\n",
       "    </tr>\n",
       "  </tbody>\n",
       "</table>\n",
       "</div>"
      ],
      "text/plain": [
       "        rating  review_count\n",
       "prices                      \n",
       "1        247.0          8690\n",
       "2       3063.0        202095\n",
       "3        342.5         38859\n",
       "4        253.5         18299"
      ]
     },
     "execution_count": 39,
     "metadata": {},
     "output_type": "execute_result"
    }
   ],
   "source": [
    "new_df.groupby('prices').sum()"
   ]
  },
  {
   "cell_type": "markdown",
   "metadata": {},
   "source": [
    "let's check the different ways to compare our data for prices, rating, adn review_count"
   ]
  },
  {
   "cell_type": "code",
   "execution_count": 42,
   "metadata": {
    "scrolled": false
   },
   "outputs": [
    {
     "data": {
      "image/png": "[encoded data removed]",
      "text/plain": [
       "<Figure size 720x504 with 9 Axes>"
      ]
     },
     "metadata": {
      "needs_background": "light"
     },
     "output_type": "display_data"
    }
   ],
   "source": [
    "val_df = df[['prices', 'rating', 'review_count']]\n",
    "pd.plotting.scatter_matrix(val_df, figsize=(10,7))\n",
    "plt.show()"
   ]
  },
  {
   "cell_type": "markdown",
   "metadata": {},
   "source": [
    "## Mapping\n",
    "\n",
    "Look at the initial Yelp example and try and make a map using Folium of the restaurants you retrieved. Be sure to also add popups to the markers giving some basic information such as name, rating and price."
   ]
  },
  {
   "cell_type": "code",
   "execution_count": null,
   "metadata": {},
   "outputs": [],
   "source": [
    "import folium\n",
    "\n",
    "long = data['region']['center']['longitude']\n",
    "lat = data['region']['center']['latitude']\n",
    "#Create a map of the area\n",
    "base_map = folium.Map([lat, long], zoom_start=13)\n",
    "base_map"
   ]
  },
  {
   "cell_type": "code",
   "execution_count": null,
   "metadata": {},
   "outputs": [],
   "source": [
    "#list of tuples in form (latitude, longitude)\n",
    "coords = df['coordinates'].map(lambda x: (x['latitude'], x['longitude']))\n",
    "#print(coords)\n",
    "#create a tuple of (name, rating, price) for description\n",
    "name = df['name']\n",
    "rating = df['rating']\n",
    "price = df['price']\n",
    "#desc = [(x['name'], x['rating'], x['price']) for x in list(range(len(name))) ]\n",
    "subset = df[['name', 'rating', 'price']]\n",
    "desc = [tuple(x) for x in subset.values]\n",
    "\n",
    "\n",
    "#go through each point and plot\n",
    "for i in range(len(coords)):\n",
    "    lat = coords[i][0]\n",
    "    long = coords[i][1]\n",
    "    #print(lat, long)\n",
    "    r_name = desc[i][0]\n",
    "    r_rating = desc[i][1]\n",
    "    r_price = desc[i][2]\n",
    "    #add description - name, rating and price\n",
    "    popup_text = \"Restaurant Name: {}, Rating: {}, Price: {}\".format(r_name, r_rating, r_price)\n",
    "    #print(popup_text)\n",
    "    popup = folium.Popup(popup_text, parse_html=True)\n",
    "    marker = folium.Marker(location=[lat, long], popup=popup)\n",
    "    #print(marker)\n",
    "    marker.add_to(base_map)\n",
    "base_map\n"
   ]
  },
  {
   "cell_type": "code",
   "execution_count": null,
   "metadata": {},
   "outputs": [],
   "source": [
    "df['coordinates']"
   ]
  },
  {
   "cell_type": "markdown",
   "metadata": {},
   "source": [
    "## Summary\n",
    "\n",
    "Nice work! In this lab, you synthesized your skills for the day, making multiple API calls to Yelp in order to paginate through a results set, performing some basic exploratory analysis and then creating a nice map visual to display the results! Well done!"
   ]
  },
  {
   "cell_type": "code",
   "execution_count": null,
   "metadata": {},
   "outputs": [],
   "source": []
  }
 ],
 "metadata": {
  "kernelspec": {
   "display_name": "Python 3",
   "language": "python",
   "name": "python3"
  },
  "language_info": {
   "codemirror_mode": {
    "name": "ipython",
    "version": 3
   },
   "file_extension": ".py",
   "mimetype": "text/x-python",
   "name": "python",
   "nbconvert_exporter": "python",
   "pygments_lexer": "ipython3",
   "version": "3.6.6"
  }
 },
 "nbformat": 4,
 "nbformat_minor": 2
}
